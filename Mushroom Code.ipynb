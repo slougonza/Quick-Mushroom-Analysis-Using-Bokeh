{
 "cells": [
  {
   "cell_type": "markdown",
   "metadata": {},
   "source": [
    "# Introduction to Visualizing Categorical Data with Bokeh"
   ]
  },
  {
   "cell_type": "markdown",
   "metadata": {},
   "source": [
    "## What is Bokeh?\n",
    "#### Bokeh is a open-sourced visulazation library for Python, specificaly know for its interactivity. While any visualization works well for simple charts, Bokeh looks extremely modern, and doesn't have to be modified in order to have a \"clean\" look. As this is a declaritive language, it is also is extremely user friendly, especially when it comes to interactivity of visuaizations. It also allows users to output visuaizations, not only in the Jupyter Lab environment, but directly to web browsers a well. \n",
    "\n",
    "#### The downfall to Bokeh is that some graph interactions must be written in JavaScript, however for simple visualizations like those found in this tutorial, Java Script knowledge is not necessary.\n",
    "\n",
    "#### Since I really wanted to learn an interactive library without spending weeks getting into the specifics, I chose Bokeh. \n"
   ]
  },
  {
   "cell_type": "markdown",
   "metadata": {},
   "source": [
    "## The Data \n",
    "#### This dataset contains mushroom samples from 23 species of gilled mushrooms drawn from The Audubon Society Field Guide to North American Mushrooms (1981). Although this data set is quite old, when it comes to mushroom species of North America, not a lot has actually changed. The data included in this data set is all categorical, which lends itself mainly to pie charts and bars charts, both of which are showed below. Can you tell if a mushroom in North America is poisonous just by its color? What about its smell?\n",
    "\n",
    "#### As we dive in, I would urge you not to judge the poisonous mushrooms too harshly... they are all fungis!"
   ]
  },
  {
   "cell_type": "markdown",
   "metadata": {},
   "source": [
    "## Pie Charts and Bar Charts\n",
    "\n",
    "#### Since we are dealing with _only_ categorical data, specifially frequency of categorical data, our simplest options lie with pie chats and bar charts. Visualizations like line charts, scatteplots, and box plots can only be used with quantitative variables.  \n",
    "\n"
   ]
  },
  {
   "cell_type": "markdown",
   "metadata": {},
   "source": [
    "![title](mushroms.png)"
   ]
  },
  {
   "cell_type": "markdown",
   "metadata": {},
   "source": [
    "https://www.instagram.com/p/32J4AFSgh8/"
   ]
  },
  {
   "cell_type": "markdown",
   "metadata": {},
   "source": [
    "### First, lets import Bokeh! In the Jupyer Lab environment, we simply need to pass the following: "
   ]
  },
  {
   "cell_type": "code",
   "execution_count": 1,
   "metadata": {},
   "outputs": [],
   "source": [
    "import bokeh"
   ]
  },
  {
   "cell_type": "markdown",
   "metadata": {},
   "source": [
    "### Then, let's import important python libraries like numpy, pandas, and math. Then, we'll import our first Bokeh libraries!"
   ]
  },
  {
   "cell_type": "code",
   "execution_count": 2,
   "metadata": {},
   "outputs": [],
   "source": [
    "import numpy as np\n",
    "import pandas as pd\n",
    "from math import pi\n",
    "\n",
    "# Bokeh libraries\n",
    "from bokeh.io import output_file, output_notebook\n",
    "from bokeh.plotting import figure, show\n",
    "from bokeh.models import ColumnDataSource\n",
    "from bokeh.layouts import row, column, gridplot\n",
    "from bokeh.models.widgets import Tabs, Panel\n",
    "from bokeh.palettes import Category20c\n",
    "from bokeh.transform import cumsum\n",
    "from bokeh.transform import dodge\n"
   ]
  },
  {
   "cell_type": "markdown",
   "metadata": {},
   "source": [
    "### Now, we'll read in our mushroom data set, clean up our values to  make them more understandable, and pick out just the columns we'll need for our viualizations. "
   ]
  },
  {
   "cell_type": "code",
   "execution_count": 3,
   "metadata": {},
   "outputs": [
    {
     "data": {
      "text/html": [
       "<div>\n",
       "<style scoped>\n",
       "    .dataframe tbody tr th:only-of-type {\n",
       "        vertical-align: middle;\n",
       "    }\n",
       "\n",
       "    .dataframe tbody tr th {\n",
       "        vertical-align: top;\n",
       "    }\n",
       "\n",
       "    .dataframe thead th {\n",
       "        text-align: right;\n",
       "    }\n",
       "</style>\n",
       "<table border=\"1\" class=\"dataframe\">\n",
       "  <thead>\n",
       "    <tr style=\"text-align: right;\">\n",
       "      <th></th>\n",
       "      <th>class</th>\n",
       "      <th>cap-shape</th>\n",
       "      <th>cap-surface</th>\n",
       "      <th>cap-color</th>\n",
       "      <th>odor</th>\n",
       "      <th>bruises</th>\n",
       "      <th>population</th>\n",
       "      <th>spore-print-color</th>\n",
       "      <th>habitat</th>\n",
       "    </tr>\n",
       "  </thead>\n",
       "  <tbody>\n",
       "    <tr>\n",
       "      <th>0</th>\n",
       "      <td>poisonous</td>\n",
       "      <td>convex</td>\n",
       "      <td>smooth</td>\n",
       "      <td>brown</td>\n",
       "      <td>pungent</td>\n",
       "      <td>t</td>\n",
       "      <td>scattered</td>\n",
       "      <td>black</td>\n",
       "      <td>urban</td>\n",
       "    </tr>\n",
       "    <tr>\n",
       "      <th>1</th>\n",
       "      <td>edible</td>\n",
       "      <td>convex</td>\n",
       "      <td>smooth</td>\n",
       "      <td>yellow</td>\n",
       "      <td>almond</td>\n",
       "      <td>t</td>\n",
       "      <td>numerous</td>\n",
       "      <td>brown</td>\n",
       "      <td>grasses</td>\n",
       "    </tr>\n",
       "    <tr>\n",
       "      <th>2</th>\n",
       "      <td>edible</td>\n",
       "      <td>bell</td>\n",
       "      <td>smooth</td>\n",
       "      <td>white</td>\n",
       "      <td>anise</td>\n",
       "      <td>t</td>\n",
       "      <td>numerous</td>\n",
       "      <td>brown</td>\n",
       "      <td>meadows</td>\n",
       "    </tr>\n",
       "    <tr>\n",
       "      <th>3</th>\n",
       "      <td>poisonous</td>\n",
       "      <td>convex</td>\n",
       "      <td>scaly</td>\n",
       "      <td>white</td>\n",
       "      <td>pungent</td>\n",
       "      <td>t</td>\n",
       "      <td>scattered</td>\n",
       "      <td>black</td>\n",
       "      <td>urban</td>\n",
       "    </tr>\n",
       "    <tr>\n",
       "      <th>4</th>\n",
       "      <td>edible</td>\n",
       "      <td>convex</td>\n",
       "      <td>smooth</td>\n",
       "      <td>gray</td>\n",
       "      <td>none</td>\n",
       "      <td>f</td>\n",
       "      <td>abundant</td>\n",
       "      <td>brown</td>\n",
       "      <td>grasses</td>\n",
       "    </tr>\n",
       "  </tbody>\n",
       "</table>\n",
       "</div>"
      ],
      "text/plain": [
       "       class cap-shape cap-surface cap-color     odor bruises population  \\\n",
       "0  poisonous    convex      smooth     brown  pungent       t  scattered   \n",
       "1     edible    convex      smooth    yellow   almond       t   numerous   \n",
       "2     edible      bell      smooth     white    anise       t   numerous   \n",
       "3  poisonous    convex       scaly     white  pungent       t  scattered   \n",
       "4     edible    convex      smooth      gray     none       f   abundant   \n",
       "\n",
       "  spore-print-color  habitat  \n",
       "0             black    urban  \n",
       "1             brown  grasses  \n",
       "2             brown  meadows  \n",
       "3             black    urban  \n",
       "4             brown  grasses  "
      ]
     },
     "execution_count": 3,
     "metadata": {},
     "output_type": "execute_result"
    }
   ],
   "source": [
    "df = pd.read_csv(\"/home/jovyan/work/resources/assignment3/assets/mush.csv\")\n",
    "pd.set_option('display.max_columns', None)\n",
    "df['class'].replace(to_replace=\"p\",value=\"poisonous\", inplace=True)\n",
    "df['class'].replace(to_replace=\"e\",value=\"edible\", inplace=True)\n",
    "\n",
    "df['cap-color'].replace(to_replace=\"n\",value=\"brown\", inplace=True)\n",
    "df['cap-color'].replace(to_replace=\"b\",value=\"buff\", inplace=True)\n",
    "df['cap-color'].replace(to_replace=\"c\",value=\"cinnamon\", inplace=True)\n",
    "df['cap-color'].replace(to_replace=\"g\",value=\"gray\", inplace=True)\n",
    "df['cap-color'].replace(to_replace=\"r\",value=\"green\", inplace=True)\n",
    "df['cap-color'].replace(to_replace=\"p\",value=\"pink\", inplace=True)\n",
    "df['cap-color'].replace(to_replace=\"u\",value=\"purple\", inplace=True)\n",
    "df['cap-color'].replace(to_replace=\"e\",value=\"red\", inplace=True)\n",
    "df['cap-color'].replace(to_replace=\"w\",value=\"white\", inplace=True)\n",
    "df['cap-color'].replace(to_replace=\"y\",value=\"yellow\", inplace=True)\n",
    "\n",
    "df['cap-shape'].replace(to_replace=\"b\",value=\"bell\", inplace=True)\n",
    "df['cap-shape'].replace(to_replace=\"c\",value=\"conical\", inplace=True)\n",
    "df['cap-shape'].replace(to_replace=\"x\",value=\"convex\", inplace=True)\n",
    "df['cap-shape'].replace(to_replace=\"f\",value=\"flat\", inplace=True)\n",
    "df['cap-shape'].replace(to_replace=\"k\",value=\"knobbed\", inplace=True)\n",
    "df['cap-shape'].replace(to_replace=\"s\",value=\"sunken\", inplace=True)\n",
    "\n",
    "df['cap-surface'].replace(to_replace=\"f\",value=\"fibrous\", inplace=True)\n",
    "df['cap-surface'].replace(to_replace=\"g\",value=\"grooves\", inplace=True)\n",
    "df['cap-surface'].replace(to_replace=\"y\",value=\"scaly\", inplace=True)\n",
    "df['cap-surface'].replace(to_replace=\"s\",value=\"smooth\", inplace=True)\n",
    "    \n",
    "df['spore-print-color'].replace(to_replace=\"k\",value=\"black\", inplace=True)\n",
    "df['spore-print-color'].replace(to_replace=\"n\",value=\"brown\", inplace=True)\n",
    "df['spore-print-color'].replace(to_replace=\"b\",value=\"buff\", inplace=True)\n",
    "df['spore-print-color'].replace(to_replace=\"h\",value=\"chocolate\", inplace=True)\n",
    "df['spore-print-color'].replace(to_replace=\"r\",value=\"green\", inplace=True)\n",
    "df['spore-print-color'].replace(to_replace=\"o\",value=\"orange\", inplace=True)\n",
    "df['spore-print-color'].replace(to_replace=\"u\",value=\"purple\", inplace=True)\n",
    "df['spore-print-color'].replace(to_replace=\"w\",value=\"white\", inplace=True)\n",
    "df['spore-print-color'].replace(to_replace=\"y\",value=\"yellow\", inplace=True)\n",
    "\n",
    "df['population'].replace(to_replace=\"a\",value=\"abundant\", inplace=True)\n",
    "df['population'].replace(to_replace=\"c\",value=\"clustered\", inplace=True)\n",
    "df['population'].replace(to_replace=\"n\",value=\"numerous\", inplace=True)\n",
    "df['population'].replace(to_replace=\"s\",value=\"scattered\", inplace=True)\n",
    "df['population'].replace(to_replace=\"v\",value=\"several\", inplace=True)\n",
    "df['population'].replace(to_replace=\"y\",value=\"solitary\", inplace=True)\n",
    "\n",
    "df['habitat'].replace(to_replace=\"g\",value=\"grasses\", inplace=True)\n",
    "df['habitat'].replace(to_replace=\"l\",value=\"leaves\", inplace=True)\n",
    "df['habitat'].replace(to_replace=\"m\",value=\"meadows\", inplace=True)\n",
    "df['habitat'].replace(to_replace=\"p\",value=\"paths\", inplace=True)\n",
    "df['habitat'].replace(to_replace=\"u\",value=\"urban\", inplace=True)\n",
    "df['habitat'].replace(to_replace=\"w\",value=\"waste\", inplace=True)\n",
    "df['habitat'].replace(to_replace=\"d\",value=\"woods\", inplace=True)\n",
    "\n",
    "df['odor'].replace(to_replace=\"a\",value=\"almond\", inplace=True)\n",
    "df['odor'].replace(to_replace=\"l\",value=\"anise\", inplace=True)\n",
    "df['odor'].replace(to_replace=\"c\",value=\"creosote\", inplace=True)\n",
    "df['odor'].replace(to_replace=\"y\",value=\"fishy\", inplace=True)\n",
    "df['odor'].replace(to_replace=\"f\",value=\"foul\", inplace=True)\n",
    "df['odor'].replace(to_replace=\"m\",value=\"musty\", inplace=True)\n",
    "df['odor'].replace(to_replace=\"n\",value=\"none\", inplace=True)\n",
    "df['odor'].replace(to_replace=\"p\",value=\"pungent\", inplace=True)\n",
    "df['odor'].replace(to_replace=\"s\",value=\"spicy\", inplace=True)\n",
    "\n",
    "df=df.loc[:,['class','cap-shape','cap-surface',\"cap-color\",\"odor\",\"bruises\",\"population\",\"spore-print-color\",\"habitat\"]]\n",
    "\n",
    "df.head()\n"
   ]
  },
  {
   "cell_type": "markdown",
   "metadata": {},
   "source": [
    "### Different from some othe visualization libraries in Python, in order to show any sort of output on the screen we must first specify that was want to actually see the output inside of the Jupyter Notebook environment itself."
   ]
  },
  {
   "cell_type": "code",
   "execution_count": 4,
   "metadata": {},
   "outputs": [
    {
     "data": {
      "text/html": [
       "\n",
       "    <div class=\"bk-root\">\n",
       "        <a href=\"https://bokeh.org\" target=\"_blank\" class=\"bk-logo bk-logo-small bk-logo-notebook\"></a>\n",
       "        <span id=\"1001\">Loading BokehJS ...</span>\n",
       "    </div>"
      ]
     },
     "metadata": {},
     "output_type": "display_data"
    },
    {
     "data": {
      "application/javascript": [
       "\n",
       "(function(root) {\n",
       "  function now() {\n",
       "    return new Date();\n",
       "  }\n",
       "\n",
       "  var force = true;\n",
       "\n",
       "  if (typeof root._bokeh_onload_callbacks === \"undefined\" || force === true) {\n",
       "    root._bokeh_onload_callbacks = [];\n",
       "    root._bokeh_is_loading = undefined;\n",
       "  }\n",
       "\n",
       "  var JS_MIME_TYPE = 'application/javascript';\n",
       "  var HTML_MIME_TYPE = 'text/html';\n",
       "  var EXEC_MIME_TYPE = 'application/vnd.bokehjs_exec.v0+json';\n",
       "  var CLASS_NAME = 'output_bokeh rendered_html';\n",
       "\n",
       "  /**\n",
       "   * Render data to the DOM node\n",
       "   */\n",
       "  function render(props, node) {\n",
       "    var script = document.createElement(\"script\");\n",
       "    node.appendChild(script);\n",
       "  }\n",
       "\n",
       "  /**\n",
       "   * Handle when an output is cleared or removed\n",
       "   */\n",
       "  function handleClearOutput(event, handle) {\n",
       "    var cell = handle.cell;\n",
       "\n",
       "    var id = cell.output_area._bokeh_element_id;\n",
       "    var server_id = cell.output_area._bokeh_server_id;\n",
       "    // Clean up Bokeh references\n",
       "    if (id != null && id in Bokeh.index) {\n",
       "      Bokeh.index[id].model.document.clear();\n",
       "      delete Bokeh.index[id];\n",
       "    }\n",
       "\n",
       "    if (server_id !== undefined) {\n",
       "      // Clean up Bokeh references\n",
       "      var cmd = \"from bokeh.io.state import curstate; print(curstate().uuid_to_server['\" + server_id + \"'].get_sessions()[0].document.roots[0]._id)\";\n",
       "      cell.notebook.kernel.execute(cmd, {\n",
       "        iopub: {\n",
       "          output: function(msg) {\n",
       "            var id = msg.content.text.trim();\n",
       "            if (id in Bokeh.index) {\n",
       "              Bokeh.index[id].model.document.clear();\n",
       "              delete Bokeh.index[id];\n",
       "            }\n",
       "          }\n",
       "        }\n",
       "      });\n",
       "      // Destroy server and session\n",
       "      var cmd = \"import bokeh.io.notebook as ion; ion.destroy_server('\" + server_id + \"')\";\n",
       "      cell.notebook.kernel.execute(cmd);\n",
       "    }\n",
       "  }\n",
       "\n",
       "  /**\n",
       "   * Handle when a new output is added\n",
       "   */\n",
       "  function handleAddOutput(event, handle) {\n",
       "    var output_area = handle.output_area;\n",
       "    var output = handle.output;\n",
       "\n",
       "    // limit handleAddOutput to display_data with EXEC_MIME_TYPE content only\n",
       "    if ((output.output_type != \"display_data\") || (!output.data.hasOwnProperty(EXEC_MIME_TYPE))) {\n",
       "      return\n",
       "    }\n",
       "\n",
       "    var toinsert = output_area.element.find(\".\" + CLASS_NAME.split(' ')[0]);\n",
       "\n",
       "    if (output.metadata[EXEC_MIME_TYPE][\"id\"] !== undefined) {\n",
       "      toinsert[toinsert.length - 1].firstChild.textContent = output.data[JS_MIME_TYPE];\n",
       "      // store reference to embed id on output_area\n",
       "      output_area._bokeh_element_id = output.metadata[EXEC_MIME_TYPE][\"id\"];\n",
       "    }\n",
       "    if (output.metadata[EXEC_MIME_TYPE][\"server_id\"] !== undefined) {\n",
       "      var bk_div = document.createElement(\"div\");\n",
       "      bk_div.innerHTML = output.data[HTML_MIME_TYPE];\n",
       "      var script_attrs = bk_div.children[0].attributes;\n",
       "      for (var i = 0; i < script_attrs.length; i++) {\n",
       "        toinsert[toinsert.length - 1].firstChild.setAttribute(script_attrs[i].name, script_attrs[i].value);\n",
       "        toinsert[toinsert.length - 1].firstChild.textContent = bk_div.children[0].textContent\n",
       "      }\n",
       "      // store reference to server id on output_area\n",
       "      output_area._bokeh_server_id = output.metadata[EXEC_MIME_TYPE][\"server_id\"];\n",
       "    }\n",
       "  }\n",
       "\n",
       "  function register_renderer(events, OutputArea) {\n",
       "\n",
       "    function append_mime(data, metadata, element) {\n",
       "      // create a DOM node to render to\n",
       "      var toinsert = this.create_output_subarea(\n",
       "        metadata,\n",
       "        CLASS_NAME,\n",
       "        EXEC_MIME_TYPE\n",
       "      );\n",
       "      this.keyboard_manager.register_events(toinsert);\n",
       "      // Render to node\n",
       "      var props = {data: data, metadata: metadata[EXEC_MIME_TYPE]};\n",
       "      render(props, toinsert[toinsert.length - 1]);\n",
       "      element.append(toinsert);\n",
       "      return toinsert\n",
       "    }\n",
       "\n",
       "    /* Handle when an output is cleared or removed */\n",
       "    events.on('clear_output.CodeCell', handleClearOutput);\n",
       "    events.on('delete.Cell', handleClearOutput);\n",
       "\n",
       "    /* Handle when a new output is added */\n",
       "    events.on('output_added.OutputArea', handleAddOutput);\n",
       "\n",
       "    /**\n",
       "     * Register the mime type and append_mime function with output_area\n",
       "     */\n",
       "    OutputArea.prototype.register_mime_type(EXEC_MIME_TYPE, append_mime, {\n",
       "      /* Is output safe? */\n",
       "      safe: true,\n",
       "      /* Index of renderer in `output_area.display_order` */\n",
       "      index: 0\n",
       "    });\n",
       "  }\n",
       "\n",
       "  // register the mime type if in Jupyter Notebook environment and previously unregistered\n",
       "  if (root.Jupyter !== undefined) {\n",
       "    var events = require('base/js/events');\n",
       "    var OutputArea = require('notebook/js/outputarea').OutputArea;\n",
       "\n",
       "    if (OutputArea.prototype.mime_types().indexOf(EXEC_MIME_TYPE) == -1) {\n",
       "      register_renderer(events, OutputArea);\n",
       "    }\n",
       "  }\n",
       "\n",
       "  \n",
       "  if (typeof (root._bokeh_timeout) === \"undefined\" || force === true) {\n",
       "    root._bokeh_timeout = Date.now() + 5000;\n",
       "    root._bokeh_failed_load = false;\n",
       "  }\n",
       "\n",
       "  var NB_LOAD_WARNING = {'data': {'text/html':\n",
       "     \"<div style='background-color: #fdd'>\\n\"+\n",
       "     \"<p>\\n\"+\n",
       "     \"BokehJS does not appear to have successfully loaded. If loading BokehJS from CDN, this \\n\"+\n",
       "     \"may be due to a slow or bad network connection. Possible fixes:\\n\"+\n",
       "     \"</p>\\n\"+\n",
       "     \"<ul>\\n\"+\n",
       "     \"<li>re-rerun `output_notebook()` to attempt to load from CDN again, or</li>\\n\"+\n",
       "     \"<li>use INLINE resources instead, as so:</li>\\n\"+\n",
       "     \"</ul>\\n\"+\n",
       "     \"<code>\\n\"+\n",
       "     \"from bokeh.resources import INLINE\\n\"+\n",
       "     \"output_notebook(resources=INLINE)\\n\"+\n",
       "     \"</code>\\n\"+\n",
       "     \"</div>\"}};\n",
       "\n",
       "  function display_loaded() {\n",
       "    var el = document.getElementById(\"1001\");\n",
       "    if (el != null) {\n",
       "      el.textContent = \"BokehJS is loading...\";\n",
       "    }\n",
       "    if (root.Bokeh !== undefined) {\n",
       "      if (el != null) {\n",
       "        el.textContent = \"BokehJS \" + root.Bokeh.version + \" successfully loaded.\";\n",
       "      }\n",
       "    } else if (Date.now() < root._bokeh_timeout) {\n",
       "      setTimeout(display_loaded, 100)\n",
       "    }\n",
       "  }\n",
       "\n",
       "\n",
       "  function run_callbacks() {\n",
       "    try {\n",
       "      root._bokeh_onload_callbacks.forEach(function(callback) {\n",
       "        if (callback != null)\n",
       "          callback();\n",
       "      });\n",
       "    } finally {\n",
       "      delete root._bokeh_onload_callbacks\n",
       "    }\n",
       "    console.debug(\"Bokeh: all callbacks have finished\");\n",
       "  }\n",
       "\n",
       "  function load_libs(css_urls, js_urls, callback) {\n",
       "    if (css_urls == null) css_urls = [];\n",
       "    if (js_urls == null) js_urls = [];\n",
       "\n",
       "    root._bokeh_onload_callbacks.push(callback);\n",
       "    if (root._bokeh_is_loading > 0) {\n",
       "      console.debug(\"Bokeh: BokehJS is being loaded, scheduling callback at\", now());\n",
       "      return null;\n",
       "    }\n",
       "    if (js_urls == null || js_urls.length === 0) {\n",
       "      run_callbacks();\n",
       "      return null;\n",
       "    }\n",
       "    console.debug(\"Bokeh: BokehJS not loaded, scheduling load and callback at\", now());\n",
       "    root._bokeh_is_loading = css_urls.length + js_urls.length;\n",
       "\n",
       "    function on_load() {\n",
       "      root._bokeh_is_loading--;\n",
       "      if (root._bokeh_is_loading === 0) {\n",
       "        console.debug(\"Bokeh: all BokehJS libraries/stylesheets loaded\");\n",
       "        run_callbacks()\n",
       "      }\n",
       "    }\n",
       "\n",
       "    function on_error() {\n",
       "      console.error(\"failed to load \" + url);\n",
       "    }\n",
       "\n",
       "    for (var i = 0; i < css_urls.length; i++) {\n",
       "      var url = css_urls[i];\n",
       "      const element = document.createElement(\"link\");\n",
       "      element.onload = on_load;\n",
       "      element.onerror = on_error;\n",
       "      element.rel = \"stylesheet\";\n",
       "      element.type = \"text/css\";\n",
       "      element.href = url;\n",
       "      console.debug(\"Bokeh: injecting link tag for BokehJS stylesheet: \", url);\n",
       "      document.body.appendChild(element);\n",
       "    }\n",
       "\n",
       "    const hashes = {\"https://cdn.bokeh.org/bokeh/release/bokeh-2.1.1.min.js\": \"kLr4fYcqcSpbuI95brIH3vnnYCquzzSxHPU6XGQCIkQRGJwhg0StNbj1eegrHs12\", \"https://cdn.bokeh.org/bokeh/release/bokeh-widgets-2.1.1.min.js\": \"xIGPmVtaOm+z0BqfSOMn4lOR6ciex448GIKG4eE61LsAvmGj48XcMQZtKcE/UXZe\", \"https://cdn.bokeh.org/bokeh/release/bokeh-tables-2.1.1.min.js\": \"Dc9u1wF/0zApGIWoBbH77iWEHtdmkuYWG839Uzmv8y8yBLXebjO9ZnERsde5Ln/P\", \"https://cdn.bokeh.org/bokeh/release/bokeh-gl-2.1.1.min.js\": \"cT9JaBz7GiRXdENrJLZNSC6eMNF3nh3fa5fTF51Svp+ukxPdwcU5kGXGPBgDCa2j\"};\n",
       "\n",
       "    for (var i = 0; i < js_urls.length; i++) {\n",
       "      var url = js_urls[i];\n",
       "      var element = document.createElement('script');\n",
       "      element.onload = on_load;\n",
       "      element.onerror = on_error;\n",
       "      element.async = false;\n",
       "      element.src = url;\n",
       "      if (url in hashes) {\n",
       "        element.crossOrigin = \"anonymous\";\n",
       "        element.integrity = \"sha384-\" + hashes[url];\n",
       "      }\n",
       "      console.debug(\"Bokeh: injecting script tag for BokehJS library: \", url);\n",
       "      document.head.appendChild(element);\n",
       "    }\n",
       "  };\n",
       "\n",
       "  function inject_raw_css(css) {\n",
       "    const element = document.createElement(\"style\");\n",
       "    element.appendChild(document.createTextNode(css));\n",
       "    document.body.appendChild(element);\n",
       "  }\n",
       "\n",
       "  \n",
       "  var js_urls = [\"https://cdn.bokeh.org/bokeh/release/bokeh-2.1.1.min.js\", \"https://cdn.bokeh.org/bokeh/release/bokeh-widgets-2.1.1.min.js\", \"https://cdn.bokeh.org/bokeh/release/bokeh-tables-2.1.1.min.js\", \"https://cdn.bokeh.org/bokeh/release/bokeh-gl-2.1.1.min.js\"];\n",
       "  var css_urls = [];\n",
       "  \n",
       "\n",
       "  var inline_js = [\n",
       "    function(Bokeh) {\n",
       "      Bokeh.set_log_level(\"info\");\n",
       "    },\n",
       "    function(Bokeh) {\n",
       "    \n",
       "    \n",
       "    }\n",
       "  ];\n",
       "\n",
       "  function run_inline_js() {\n",
       "    \n",
       "    if (root.Bokeh !== undefined || force === true) {\n",
       "      \n",
       "    for (var i = 0; i < inline_js.length; i++) {\n",
       "      inline_js[i].call(root, root.Bokeh);\n",
       "    }\n",
       "    if (force === true) {\n",
       "        display_loaded();\n",
       "      }} else if (Date.now() < root._bokeh_timeout) {\n",
       "      setTimeout(run_inline_js, 100);\n",
       "    } else if (!root._bokeh_failed_load) {\n",
       "      console.log(\"Bokeh: BokehJS failed to load within specified timeout.\");\n",
       "      root._bokeh_failed_load = true;\n",
       "    } else if (force !== true) {\n",
       "      var cell = $(document.getElementById(\"1001\")).parents('.cell').data().cell;\n",
       "      cell.output_area.append_execute_result(NB_LOAD_WARNING)\n",
       "    }\n",
       "\n",
       "  }\n",
       "\n",
       "  if (root._bokeh_is_loading === 0) {\n",
       "    console.debug(\"Bokeh: BokehJS loaded, going straight to plotting\");\n",
       "    run_inline_js();\n",
       "  } else {\n",
       "    load_libs(css_urls, js_urls, function() {\n",
       "      console.debug(\"Bokeh: BokehJS plotting callback run at\", now());\n",
       "      run_inline_js();\n",
       "    });\n",
       "  }\n",
       "}(window));"
      ],
      "application/vnd.bokehjs_load.v0+json": "\n(function(root) {\n  function now() {\n    return new Date();\n  }\n\n  var force = true;\n\n  if (typeof root._bokeh_onload_callbacks === \"undefined\" || force === true) {\n    root._bokeh_onload_callbacks = [];\n    root._bokeh_is_loading = undefined;\n  }\n\n  \n\n  \n  if (typeof (root._bokeh_timeout) === \"undefined\" || force === true) {\n    root._bokeh_timeout = Date.now() + 5000;\n    root._bokeh_failed_load = false;\n  }\n\n  var NB_LOAD_WARNING = {'data': {'text/html':\n     \"<div style='background-color: #fdd'>\\n\"+\n     \"<p>\\n\"+\n     \"BokehJS does not appear to have successfully loaded. If loading BokehJS from CDN, this \\n\"+\n     \"may be due to a slow or bad network connection. Possible fixes:\\n\"+\n     \"</p>\\n\"+\n     \"<ul>\\n\"+\n     \"<li>re-rerun `output_notebook()` to attempt to load from CDN again, or</li>\\n\"+\n     \"<li>use INLINE resources instead, as so:</li>\\n\"+\n     \"</ul>\\n\"+\n     \"<code>\\n\"+\n     \"from bokeh.resources import INLINE\\n\"+\n     \"output_notebook(resources=INLINE)\\n\"+\n     \"</code>\\n\"+\n     \"</div>\"}};\n\n  function display_loaded() {\n    var el = document.getElementById(\"1001\");\n    if (el != null) {\n      el.textContent = \"BokehJS is loading...\";\n    }\n    if (root.Bokeh !== undefined) {\n      if (el != null) {\n        el.textContent = \"BokehJS \" + root.Bokeh.version + \" successfully loaded.\";\n      }\n    } else if (Date.now() < root._bokeh_timeout) {\n      setTimeout(display_loaded, 100)\n    }\n  }\n\n\n  function run_callbacks() {\n    try {\n      root._bokeh_onload_callbacks.forEach(function(callback) {\n        if (callback != null)\n          callback();\n      });\n    } finally {\n      delete root._bokeh_onload_callbacks\n    }\n    console.debug(\"Bokeh: all callbacks have finished\");\n  }\n\n  function load_libs(css_urls, js_urls, callback) {\n    if (css_urls == null) css_urls = [];\n    if (js_urls == null) js_urls = [];\n\n    root._bokeh_onload_callbacks.push(callback);\n    if (root._bokeh_is_loading > 0) {\n      console.debug(\"Bokeh: BokehJS is being loaded, scheduling callback at\", now());\n      return null;\n    }\n    if (js_urls == null || js_urls.length === 0) {\n      run_callbacks();\n      return null;\n    }\n    console.debug(\"Bokeh: BokehJS not loaded, scheduling load and callback at\", now());\n    root._bokeh_is_loading = css_urls.length + js_urls.length;\n\n    function on_load() {\n      root._bokeh_is_loading--;\n      if (root._bokeh_is_loading === 0) {\n        console.debug(\"Bokeh: all BokehJS libraries/stylesheets loaded\");\n        run_callbacks()\n      }\n    }\n\n    function on_error() {\n      console.error(\"failed to load \" + url);\n    }\n\n    for (var i = 0; i < css_urls.length; i++) {\n      var url = css_urls[i];\n      const element = document.createElement(\"link\");\n      element.onload = on_load;\n      element.onerror = on_error;\n      element.rel = \"stylesheet\";\n      element.type = \"text/css\";\n      element.href = url;\n      console.debug(\"Bokeh: injecting link tag for BokehJS stylesheet: \", url);\n      document.body.appendChild(element);\n    }\n\n    const hashes = {\"https://cdn.bokeh.org/bokeh/release/bokeh-2.1.1.min.js\": \"kLr4fYcqcSpbuI95brIH3vnnYCquzzSxHPU6XGQCIkQRGJwhg0StNbj1eegrHs12\", \"https://cdn.bokeh.org/bokeh/release/bokeh-widgets-2.1.1.min.js\": \"xIGPmVtaOm+z0BqfSOMn4lOR6ciex448GIKG4eE61LsAvmGj48XcMQZtKcE/UXZe\", \"https://cdn.bokeh.org/bokeh/release/bokeh-tables-2.1.1.min.js\": \"Dc9u1wF/0zApGIWoBbH77iWEHtdmkuYWG839Uzmv8y8yBLXebjO9ZnERsde5Ln/P\", \"https://cdn.bokeh.org/bokeh/release/bokeh-gl-2.1.1.min.js\": \"cT9JaBz7GiRXdENrJLZNSC6eMNF3nh3fa5fTF51Svp+ukxPdwcU5kGXGPBgDCa2j\"};\n\n    for (var i = 0; i < js_urls.length; i++) {\n      var url = js_urls[i];\n      var element = document.createElement('script');\n      element.onload = on_load;\n      element.onerror = on_error;\n      element.async = false;\n      element.src = url;\n      if (url in hashes) {\n        element.crossOrigin = \"anonymous\";\n        element.integrity = \"sha384-\" + hashes[url];\n      }\n      console.debug(\"Bokeh: injecting script tag for BokehJS library: \", url);\n      document.head.appendChild(element);\n    }\n  };\n\n  function inject_raw_css(css) {\n    const element = document.createElement(\"style\");\n    element.appendChild(document.createTextNode(css));\n    document.body.appendChild(element);\n  }\n\n  \n  var js_urls = [\"https://cdn.bokeh.org/bokeh/release/bokeh-2.1.1.min.js\", \"https://cdn.bokeh.org/bokeh/release/bokeh-widgets-2.1.1.min.js\", \"https://cdn.bokeh.org/bokeh/release/bokeh-tables-2.1.1.min.js\", \"https://cdn.bokeh.org/bokeh/release/bokeh-gl-2.1.1.min.js\"];\n  var css_urls = [];\n  \n\n  var inline_js = [\n    function(Bokeh) {\n      Bokeh.set_log_level(\"info\");\n    },\n    function(Bokeh) {\n    \n    \n    }\n  ];\n\n  function run_inline_js() {\n    \n    if (root.Bokeh !== undefined || force === true) {\n      \n    for (var i = 0; i < inline_js.length; i++) {\n      inline_js[i].call(root, root.Bokeh);\n    }\n    if (force === true) {\n        display_loaded();\n      }} else if (Date.now() < root._bokeh_timeout) {\n      setTimeout(run_inline_js, 100);\n    } else if (!root._bokeh_failed_load) {\n      console.log(\"Bokeh: BokehJS failed to load within specified timeout.\");\n      root._bokeh_failed_load = true;\n    } else if (force !== true) {\n      var cell = $(document.getElementById(\"1001\")).parents('.cell').data().cell;\n      cell.output_area.append_execute_result(NB_LOAD_WARNING)\n    }\n\n  }\n\n  if (root._bokeh_is_loading === 0) {\n    console.debug(\"Bokeh: BokehJS loaded, going straight to plotting\");\n    run_inline_js();\n  } else {\n    load_libs(css_urls, js_urls, function() {\n      console.debug(\"Bokeh: BokehJS plotting callback run at\", now());\n      run_inline_js();\n    });\n  }\n}(window));"
     },
     "metadata": {},
     "output_type": "display_data"
    }
   ],
   "source": [
    "# The figure will be right in the Jupyter Notebook\n",
    "output_notebook()"
   ]
  },
  {
   "cell_type": "markdown",
   "metadata": {},
   "source": [
    "### Next, lets take a look at how many mushrooms species in the data set are poisonous, and how many aren't. \n",
    "#### Let's clean up the data and create a dataframes of class, frequency, angle needed for the pie chart, and the color we want each class."
   ]
  },
  {
   "cell_type": "code",
   "execution_count": 5,
   "metadata": {},
   "outputs": [
    {
     "data": {
      "text/html": [
       "<div>\n",
       "<style scoped>\n",
       "    .dataframe tbody tr th:only-of-type {\n",
       "        vertical-align: middle;\n",
       "    }\n",
       "\n",
       "    .dataframe tbody tr th {\n",
       "        vertical-align: top;\n",
       "    }\n",
       "\n",
       "    .dataframe thead th {\n",
       "        text-align: right;\n",
       "    }\n",
       "</style>\n",
       "<table border=\"1\" class=\"dataframe\">\n",
       "  <thead>\n",
       "    <tr style=\"text-align: right;\">\n",
       "      <th></th>\n",
       "      <th>class</th>\n",
       "      <th>value</th>\n",
       "      <th>angle</th>\n",
       "      <th>color</th>\n",
       "    </tr>\n",
       "  </thead>\n",
       "  <tbody>\n",
       "    <tr>\n",
       "      <th>0</th>\n",
       "      <td>Edible</td>\n",
       "      <td>4208</td>\n",
       "      <td>3.254511</td>\n",
       "      <td>#44e5e2</td>\n",
       "    </tr>\n",
       "    <tr>\n",
       "      <th>1</th>\n",
       "      <td>Poisonous</td>\n",
       "      <td>3916</td>\n",
       "      <td>3.028675</td>\n",
       "      <td>#e29e44</td>\n",
       "    </tr>\n",
       "  </tbody>\n",
       "</table>\n",
       "</div>"
      ],
      "text/plain": [
       "       class  value     angle    color\n",
       "0     Edible   4208  3.254511  #44e5e2\n",
       "1  Poisonous   3916  3.028675  #e29e44"
      ]
     },
     "execution_count": 5,
     "metadata": {},
     "output_type": "execute_result"
    }
   ],
   "source": [
    "#How many mushrooms in the data set are poisoness and how many are edible \n",
    "not_pois, pois = df['class'].value_counts()\n",
    "\n",
    "#Create a dictionary \n",
    "x = {\n",
    "    'Edible': not_pois,\n",
    "    'Poisonous': pois}\n",
    "\n",
    "#Pick colors!\n",
    "chart_colors = ['#44e5e2', '#e29e44']\n",
    "\n",
    "#Create a dictionary to be used in making the visualization \n",
    "data = pd.Series(x).reset_index(name='value').rename(columns={'index':'class'})\n",
    "\n",
    "#Get the proper angle of the pie \"slice\"\n",
    "data['angle'] = data['value']/data['value'].sum() * 2*pi  \n",
    "#Add the colors to the dataframe\n",
    "data['color'] = chart_colors[:len(x)]\n",
    "data"
   ]
  },
  {
   "cell_type": "markdown",
   "metadata": {},
   "source": [
    "#### To easily compare one categorical variable, with only two unique values, we are going to make a simple pie chart."
   ]
  },
  {
   "cell_type": "code",
   "execution_count": 6,
   "metadata": {},
   "outputs": [
    {
     "name": "stdout",
     "output_type": "stream",
     "text": [
      "Hover Over It!\n"
     ]
    },
    {
     "data": {
      "text/html": [
       "\n",
       "\n",
       "\n",
       "\n",
       "\n",
       "\n",
       "  <div class=\"bk-root\" id=\"18d23c95-e8be-41a2-a11d-0121921d9830\" data-root-id=\"1002\"></div>\n"
      ]
     },
     "metadata": {},
     "output_type": "display_data"
    },
    {
     "data": {
      "application/javascript": [
       "(function(root) {\n",
       "  function embed_document(root) {\n",
       "    \n",
       "  var docs_json = {\"8df39322-205a-44f7-bc16-b5ffc3566612\":{\"roots\":{\"references\":[{\"attributes\":{\"below\":[{\"id\":\"1013\"}],\"center\":[{\"id\":\"1016\"},{\"id\":\"1020\"},{\"id\":\"1039\"}],\"left\":[{\"id\":\"1017\"}],\"plot_height\":500,\"renderers\":[{\"id\":\"1030\"}],\"title\":{\"id\":\"1003\"},\"toolbar\":{\"id\":\"1022\"},\"toolbar_location\":null,\"x_range\":{\"id\":\"1005\"},\"x_scale\":{\"id\":\"1009\"},\"y_range\":{\"id\":\"1007\"},\"y_scale\":{\"id\":\"1011\"}},\"id\":\"1002\",\"subtype\":\"Figure\",\"type\":\"Plot\"},{\"attributes\":{},\"id\":\"1007\",\"type\":\"DataRange1d\"},{\"attributes\":{\"active_drag\":\"auto\",\"active_inspect\":\"auto\",\"active_multi\":null,\"active_scroll\":\"auto\",\"active_tap\":\"auto\",\"tools\":[{\"id\":\"1021\"}]},\"id\":\"1022\",\"type\":\"Toolbar\"},{\"attributes\":{\"data_source\":{\"id\":\"1026\"},\"glyph\":{\"id\":\"1028\"},\"hover_glyph\":null,\"muted_glyph\":null,\"nonselection_glyph\":{\"id\":\"1029\"},\"selection_glyph\":null,\"view\":{\"id\":\"1031\"}},\"id\":\"1030\",\"type\":\"GlyphRenderer\"},{\"attributes\":{},\"id\":\"1009\",\"type\":\"LinearScale\"},{\"attributes\":{},\"id\":\"1011\",\"type\":\"LinearScale\"},{\"attributes\":{\"axis_label\":null,\"formatter\":{\"id\":\"1036\"},\"ticker\":{\"id\":\"1014\"},\"visible\":false},\"id\":\"1013\",\"type\":\"LinearAxis\"},{\"attributes\":{\"start\":-0.5},\"id\":\"1005\",\"type\":\"Range1d\"},{\"attributes\":{},\"id\":\"1014\",\"type\":\"BasicTicker\"},{\"attributes\":{\"axis\":{\"id\":\"1017\"},\"dimension\":1,\"grid_line_color\":null,\"ticker\":null},\"id\":\"1020\",\"type\":\"Grid\"},{\"attributes\":{\"end_angle\":{\"expr\":{\"id\":\"1025\"},\"units\":\"rad\"},\"fill_color\":{\"field\":\"color\"},\"line_color\":{\"value\":\"white\"},\"radius\":{\"units\":\"data\",\"value\":0.4},\"start_angle\":{\"expr\":{\"id\":\"1024\"},\"units\":\"rad\"},\"x\":{\"value\":0},\"y\":{\"value\":1}},\"id\":\"1028\",\"type\":\"Wedge\"},{\"attributes\":{\"end_angle\":{\"expr\":{\"id\":\"1025\"},\"units\":\"rad\"},\"fill_alpha\":{\"value\":0.1},\"fill_color\":{\"field\":\"color\"},\"line_alpha\":{\"value\":0.1},\"line_color\":{\"value\":\"white\"},\"radius\":{\"units\":\"data\",\"value\":0.4},\"start_angle\":{\"expr\":{\"id\":\"1024\"},\"units\":\"rad\"},\"x\":{\"value\":0},\"y\":{\"value\":1}},\"id\":\"1029\",\"type\":\"Wedge\"},{\"attributes\":{\"axis\":{\"id\":\"1013\"},\"grid_line_color\":null,\"ticker\":null},\"id\":\"1016\",\"type\":\"Grid\"},{\"attributes\":{},\"id\":\"1038\",\"type\":\"Selection\"},{\"attributes\":{\"axis_label\":null,\"formatter\":{\"id\":\"1034\"},\"ticker\":{\"id\":\"1018\"},\"visible\":false},\"id\":\"1017\",\"type\":\"LinearAxis\"},{\"attributes\":{\"items\":[{\"id\":\"1040\"}]},\"id\":\"1039\",\"type\":\"Legend\"},{\"attributes\":{\"label\":{\"field\":\"class\"},\"renderers\":[{\"id\":\"1030\"}]},\"id\":\"1040\",\"type\":\"LegendItem\"},{\"attributes\":{\"source\":{\"id\":\"1026\"}},\"id\":\"1031\",\"type\":\"CDSView\"},{\"attributes\":{},\"id\":\"1018\",\"type\":\"BasicTicker\"},{\"attributes\":{\"text\":\"Poisonous Vs Edible Mushrooms\"},\"id\":\"1003\",\"type\":\"Title\"},{\"attributes\":{\"field\":\"angle\"},\"id\":\"1025\",\"type\":\"CumSum\"},{\"attributes\":{\"data\":{\"angle\":{\"__ndarray__\":\"wVHW1DwJCkBuCLLTuToIQA==\",\"dtype\":\"float64\",\"order\":\"little\",\"shape\":[2]},\"class\":[\"Edible\",\"Poisonous\"],\"color\":[\"#44e5e2\",\"#e29e44\"],\"index\":[0,1],\"value\":[4208,3916]},\"selected\":{\"id\":\"1038\"},\"selection_policy\":{\"id\":\"1037\"}},\"id\":\"1026\",\"type\":\"ColumnDataSource\"},{\"attributes\":{\"field\":\"angle\",\"include_zero\":true},\"id\":\"1024\",\"type\":\"CumSum\"},{\"attributes\":{},\"id\":\"1036\",\"type\":\"BasicTickFormatter\"},{\"attributes\":{},\"id\":\"1034\",\"type\":\"BasicTickFormatter\"},{\"attributes\":{},\"id\":\"1037\",\"type\":\"UnionRenderers\"},{\"attributes\":{\"callback\":null,\"tooltips\":\"@class: @value\"},\"id\":\"1021\",\"type\":\"HoverTool\"}],\"root_ids\":[\"1002\"]},\"title\":\"Bokeh Application\",\"version\":\"2.1.1\"}};\n",
       "  var render_items = [{\"docid\":\"8df39322-205a-44f7-bc16-b5ffc3566612\",\"root_ids\":[\"1002\"],\"roots\":{\"1002\":\"18d23c95-e8be-41a2-a11d-0121921d9830\"}}];\n",
       "  root.Bokeh.embed.embed_items_notebook(docs_json, render_items);\n",
       "\n",
       "  }\n",
       "  if (root.Bokeh !== undefined) {\n",
       "    embed_document(root);\n",
       "  } else {\n",
       "    var attempts = 0;\n",
       "    var timer = setInterval(function(root) {\n",
       "      if (root.Bokeh !== undefined) {\n",
       "        clearInterval(timer);\n",
       "        embed_document(root);\n",
       "      } else {\n",
       "        attempts++;\n",
       "        if (attempts > 100) {\n",
       "          clearInterval(timer);\n",
       "          console.log(\"Bokeh: ERROR: Unable to run BokehJS code because BokehJS library is missing\");\n",
       "        }\n",
       "      }\n",
       "    }, 10, root)\n",
       "  }\n",
       "})(window);"
      ],
      "application/vnd.bokehjs_exec.v0+json": ""
     },
     "metadata": {
      "application/vnd.bokehjs_exec.v0+json": {
       "id": "1002"
      }
     },
     "output_type": "display_data"
    }
   ],
   "source": [
    "# The \"figure()\" command is used to set the size, title, and whether you want some interactivity or not \n",
    "# let's title it p for poisonous! Or Pie! Or Pi!\n",
    "p = figure(plot_height=500, title=\"Poisonous Vs Edible Mushrooms\", toolbar_location=None,\n",
    "           tools=\"hover\", tooltips=\"@class: @value\", x_range=(-0.5, 1.0))   #Tools!\n",
    "\n",
    "# with the \"wedge()\" command, we are specifying that we want a pie chart, and then specifying the size of the \"wedges\" \n",
    "p.wedge(x=0, y=1, radius=0.4,\n",
    "        start_angle=cumsum('angle', include_zero=True), end_angle=cumsum('angle'),\n",
    "        line_color=\"white\", fill_color='color', legend_field='class', source=data)\n",
    "\n",
    "\n",
    "#Since we are dealing with a pie chart, we don't want any axis, axis labels, or grid lines\n",
    "p.axis.axis_label=None\n",
    "p.axis.visible=False \n",
    "p.grid.grid_line_color = None\n",
    "\n",
    "print(\"Hover Over It!\")\n",
    "#SHOW!\n",
    "show(p)"
   ]
  },
  {
   "cell_type": "markdown",
   "metadata": {},
   "source": [
    "#### Okay... so only slightly over half of the species in the data set are edible... Interesting, but not telling us much yet...\n"
   ]
  },
  {
   "cell_type": "markdown",
   "metadata": {},
   "source": [
    "See the documentation on interactivity here:\n",
    "    https://docs.bokeh.org/en/latest/docs/user_guide/tools.html"
   ]
  },
  {
   "cell_type": "markdown",
   "metadata": {},
   "source": [
    "### Now lets, look at the distribution of mushrooms by their cap colors \n",
    "#### Let's clean up the data a little bit by creating a list of cap colors and another list of their corespsonding frequencies, and combining them all into a pandas series. "
   ]
  },
  {
   "cell_type": "code",
   "execution_count": 7,
   "metadata": {},
   "outputs": [],
   "source": [
    "#Lets clean up the data a little bit\n",
    "cap_color_count = df['cap-color'].value_counts()\n",
    "m_height = cap_color_count.values.tolist() #Provides numerical values\n",
    "cap_color_count.axes #Provides row labels\n",
    "cap_color = cap_color_count.axes[0].tolist() \n",
    "\n",
    "#Let's pick colors corresponding to the list\n",
    "colors=[\"#82553e\",\"#b8b0ad\",\"red\",\"yellow\",\"#f0eeed\",\"#f0dc82\",\"pink\",\"#e55444\",\"green\",\"purple\"]\n",
    "\n",
    "#Lets tie all that data together in a data frame\n",
    "datacolor = pd.Series(cap_color_count).reset_index(name='value').rename(columns={'index':'color'})"
   ]
  },
  {
   "cell_type": "markdown",
   "metadata": {},
   "source": [
    "### Let's specify that we want a vertical bar graph to show us frequency of cap color"
   ]
  },
  {
   "cell_type": "code",
   "execution_count": 8,
   "metadata": {},
   "outputs": [
    {
     "data": {
      "text/html": [
       "\n",
       "\n",
       "\n",
       "\n",
       "\n",
       "\n",
       "  <div class=\"bk-root\" id=\"d403f35e-52d4-4f95-8efd-cddd2c20ac77\" data-root-id=\"1090\"></div>\n"
      ]
     },
     "metadata": {},
     "output_type": "display_data"
    },
    {
     "data": {
      "application/javascript": [
       "(function(root) {\n",
       "  function embed_document(root) {\n",
       "    \n",
       "  var docs_json = {\"a1e3c602-ed7b-4f45-b1da-bc26ae5308cd\":{\"roots\":{\"references\":[{\"attributes\":{\"below\":[{\"id\":\"1101\"}],\"center\":[{\"id\":\"1103\"},{\"id\":\"1107\"}],\"left\":[{\"id\":\"1104\"}],\"plot_height\":500,\"renderers\":[{\"id\":\"1112\"}],\"title\":{\"id\":\"1091\"},\"toolbar\":{\"id\":\"1108\"},\"toolbar_location\":null,\"x_range\":{\"id\":\"1093\"},\"x_scale\":{\"id\":\"1097\"},\"y_range\":{\"id\":\"1095\"},\"y_scale\":{\"id\":\"1099\"}},\"id\":\"1090\",\"subtype\":\"Figure\",\"type\":\"Plot\"},{\"attributes\":{},\"id\":\"1123\",\"type\":\"BasicTickFormatter\"},{\"attributes\":{\"axis\":{\"id\":\"1101\"},\"grid_line_color\":null,\"ticker\":null},\"id\":\"1103\",\"type\":\"Grid\"},{\"attributes\":{},\"id\":\"1102\",\"type\":\"CategoricalTicker\"},{\"attributes\":{\"text\":\"Cap Colors\"},\"id\":\"1091\",\"type\":\"Title\"},{\"attributes\":{},\"id\":\"1097\",\"type\":\"CategoricalScale\"},{\"attributes\":{},\"id\":\"1127\",\"type\":\"Selection\"},{\"attributes\":{\"formatter\":{\"id\":\"1123\"},\"ticker\":{\"id\":\"1105\"}},\"id\":\"1104\",\"type\":\"LinearAxis\"},{\"attributes\":{\"start\":0},\"id\":\"1095\",\"type\":\"DataRange1d\"},{\"attributes\":{},\"id\":\"1105\",\"type\":\"BasicTicker\"},{\"attributes\":{\"axis\":{\"id\":\"1104\"},\"dimension\":1,\"ticker\":null},\"id\":\"1107\",\"type\":\"Grid\"},{\"attributes\":{\"factors\":[\"brown\",\"gray\",\"red\",\"yellow\",\"white\",\"buff\",\"pink\",\"cinnamon\",\"purple\",\"green\"]},\"id\":\"1093\",\"type\":\"FactorRange\"},{\"attributes\":{\"fill_alpha\":{\"value\":0.1},\"fill_color\":{\"field\":\"fill_color\"},\"line_alpha\":{\"value\":0.1},\"line_color\":{\"field\":\"line_color\"},\"top\":{\"field\":\"top\"},\"width\":{\"value\":0.9},\"x\":{\"field\":\"x\"}},\"id\":\"1111\",\"type\":\"VBar\"},{\"attributes\":{},\"id\":\"1099\",\"type\":\"LinearScale\"},{\"attributes\":{\"fill_color\":{\"field\":\"fill_color\"},\"line_color\":{\"field\":\"line_color\"},\"top\":{\"field\":\"top\"},\"width\":{\"value\":0.9},\"x\":{\"field\":\"x\"}},\"id\":\"1110\",\"type\":\"VBar\"},{\"attributes\":{},\"id\":\"1126\",\"type\":\"UnionRenderers\"},{\"attributes\":{},\"id\":\"1125\",\"type\":\"CategoricalTickFormatter\"},{\"attributes\":{\"source\":{\"id\":\"1109\"}},\"id\":\"1113\",\"type\":\"CDSView\"},{\"attributes\":{\"data\":{\"fill_color\":[\"#82553e\",\"#b8b0ad\",\"red\",\"yellow\",\"#f0eeed\",\"#f0dc82\",\"pink\",\"#e55444\",\"green\",\"purple\"],\"line_color\":[\"#82553e\",\"#b8b0ad\",\"red\",\"yellow\",\"#f0eeed\",\"#f0dc82\",\"pink\",\"#e55444\",\"green\",\"purple\"],\"top\":[2284,1840,1500,1072,1040,168,144,44,16,16],\"x\":[\"brown\",\"gray\",\"red\",\"yellow\",\"white\",\"buff\",\"pink\",\"cinnamon\",\"purple\",\"green\"]},\"selected\":{\"id\":\"1127\"},\"selection_policy\":{\"id\":\"1126\"}},\"id\":\"1109\",\"type\":\"ColumnDataSource\"},{\"attributes\":{\"formatter\":{\"id\":\"1125\"},\"ticker\":{\"id\":\"1102\"}},\"id\":\"1101\",\"type\":\"CategoricalAxis\"},{\"attributes\":{\"active_drag\":\"auto\",\"active_inspect\":\"auto\",\"active_multi\":null,\"active_scroll\":\"auto\",\"active_tap\":\"auto\"},\"id\":\"1108\",\"type\":\"Toolbar\"},{\"attributes\":{\"data_source\":{\"id\":\"1109\"},\"glyph\":{\"id\":\"1110\"},\"hover_glyph\":null,\"muted_glyph\":null,\"nonselection_glyph\":{\"id\":\"1111\"},\"selection_glyph\":null,\"view\":{\"id\":\"1113\"}},\"id\":\"1112\",\"type\":\"GlyphRenderer\"}],\"root_ids\":[\"1090\"]},\"title\":\"Bokeh Application\",\"version\":\"2.1.1\"}};\n",
       "  var render_items = [{\"docid\":\"a1e3c602-ed7b-4f45-b1da-bc26ae5308cd\",\"root_ids\":[\"1090\"],\"roots\":{\"1090\":\"d403f35e-52d4-4f95-8efd-cddd2c20ac77\"}}];\n",
       "  root.Bokeh.embed.embed_items_notebook(docs_json, render_items);\n",
       "\n",
       "  }\n",
       "  if (root.Bokeh !== undefined) {\n",
       "    embed_document(root);\n",
       "  } else {\n",
       "    var attempts = 0;\n",
       "    var timer = setInterval(function(root) {\n",
       "      if (root.Bokeh !== undefined) {\n",
       "        clearInterval(timer);\n",
       "        embed_document(root);\n",
       "      } else {\n",
       "        attempts++;\n",
       "        if (attempts > 100) {\n",
       "          clearInterval(timer);\n",
       "          console.log(\"Bokeh: ERROR: Unable to run BokehJS code because BokehJS library is missing\");\n",
       "        }\n",
       "      }\n",
       "    }, 10, root)\n",
       "  }\n",
       "})(window);"
      ],
      "application/vnd.bokehjs_exec.v0+json": ""
     },
     "metadata": {
      "application/vnd.bokehjs_exec.v0+json": {
       "id": "1090"
      }
     },
     "output_type": "display_data"
    }
   ],
   "source": [
    "#We want a x axis of cap_color, a title, and no interactivity \n",
    "p = figure(x_range=cap_color, plot_height=500, title=\"Cap Colors\",\n",
    "           toolbar_location=None, tools=\"\")\n",
    "\n",
    "#vbar() specifies it will be a vertical bar chart, with the specified colors from above. As you can see from below, there is no \"y\" only \"top.\" \n",
    "#\"top\" in this case is actally the \"y\" variable, a bit confusing at first, but once you know this, its smooth sailing \n",
    "p.vbar(x=cap_color, top=cap_color_count, color=colors, width=0.9)\n",
    "\n",
    "p.xgrid.grid_line_color = None\n",
    "p.y_range.start = 0\n",
    "\n",
    "show(p)"
   ]
  },
  {
   "cell_type": "markdown",
   "metadata": {},
   "source": [
    "#### So there are A LOT of brown mushrooms.. Can't say I'm suprised. "
   ]
  },
  {
   "cell_type": "markdown",
   "metadata": {},
   "source": [
    "### Let's dive into nested categories with Bokeh.\n",
    "#### I want to be able to see if there are any definitive ways to tell if a mushrooms is edible. So, I'l start by looking at color. Are green mushrooms ALWAYS poisonous? Can you eat all the red ones? Again, I'm going to start by cleaning up the data"
   ]
  },
  {
   "cell_type": "code",
   "execution_count": 9,
   "metadata": {},
   "outputs": [],
   "source": [
    "poisonous = [] #Poisonous color cap list\n",
    "edible = []    #Edible color cap list\n",
    "\n",
    "# for every color, lets determine how many are poisonous and how many are edible, and create a dictionary with that knowledge\n",
    "for color in cap_color:\n",
    "    size = len(df[df['cap-color'] == color].index)\n",
    "    edibles = len(df[(df['cap-color'] == color) & (df['class'] == 'edible')].index)\n",
    "    edible.append(edibles)\n",
    "    poisonous.append(size-edibles)\n",
    "\n",
    "data = {'color' : cap_color,\n",
    "        'poisonous'   : poisonous,\n",
    "        'edible'   : edible}\n",
    "\n",
    "source = ColumnDataSource(data=data)"
   ]
  },
  {
   "cell_type": "markdown",
   "metadata": {},
   "source": [
    "#### In order to create a nested bar chart, we need to specify one figure, but with two different bars for each color - one for poisonous mushrooms and one for edible ones. These will then show up side by side. Again, I'm adding some interactivity to the figure, to get a better idea of exact numbers. "
   ]
  },
  {
   "cell_type": "code",
   "execution_count": 10,
   "metadata": {},
   "outputs": [
    {
     "data": {
      "text/html": [
       "\n",
       "\n",
       "\n",
       "\n",
       "\n",
       "\n",
       "  <div class=\"bk-root\" id=\"5d103484-2db5-4cfc-9f70-5859d6ed4929\" data-root-id=\"1171\"></div>\n"
      ]
     },
     "metadata": {},
     "output_type": "display_data"
    },
    {
     "data": {
      "application/javascript": [
       "(function(root) {\n",
       "  function embed_document(root) {\n",
       "    \n",
       "  var docs_json = {\"cefae3df-70ef-4aa0-a088-6c09de157b91\":{\"roots\":{\"references\":[{\"attributes\":{\"below\":[{\"id\":\"1182\"}],\"center\":[{\"id\":\"1184\"},{\"id\":\"1188\"},{\"id\":\"1205\"}],\"left\":[{\"id\":\"1185\"}],\"plot_height\":500,\"renderers\":[{\"id\":\"1196\"},{\"id\":\"1211\"}],\"title\":{\"id\":\"1172\"},\"toolbar\":{\"id\":\"1190\"},\"toolbar_location\":null,\"x_range\":{\"id\":\"1174\"},\"x_scale\":{\"id\":\"1178\"},\"y_range\":{\"id\":\"1176\"},\"y_scale\":{\"id\":\"1180\"}},\"id\":\"1171\",\"subtype\":\"Figure\",\"type\":\"Plot\"},{\"attributes\":{\"axis\":{\"id\":\"1182\"},\"ticker\":null},\"id\":\"1184\",\"type\":\"Grid\"},{\"attributes\":{\"formatter\":{\"id\":\"1200\"},\"ticker\":{\"id\":\"1186\"}},\"id\":\"1185\",\"type\":\"LinearAxis\"},{\"attributes\":{},\"id\":\"1186\",\"type\":\"BasicTicker\"},{\"attributes\":{\"axis\":{\"id\":\"1185\"},\"dimension\":1,\"ticker\":null},\"id\":\"1188\",\"type\":\"Grid\"},{\"attributes\":{\"callback\":null,\"tooltips\":[[\"Edible\",\"@edible\"],[\"Poisonous\",\"@poisonous\"]]},\"id\":\"1189\",\"type\":\"HoverTool\"},{\"attributes\":{\"source\":{\"id\":\"1170\"}},\"id\":\"1212\",\"type\":\"CDSView\"},{\"attributes\":{\"data_source\":{\"id\":\"1170\"},\"glyph\":{\"id\":\"1209\"},\"hover_glyph\":null,\"muted_glyph\":null,\"nonselection_glyph\":{\"id\":\"1210\"},\"selection_glyph\":null,\"view\":{\"id\":\"1212\"}},\"id\":\"1211\",\"type\":\"GlyphRenderer\"},{\"attributes\":{\"active_drag\":\"auto\",\"active_inspect\":\"auto\",\"active_multi\":null,\"active_scroll\":\"auto\",\"active_tap\":\"auto\",\"tools\":[{\"id\":\"1189\"}]},\"id\":\"1190\",\"type\":\"Toolbar\"},{\"attributes\":{\"items\":[{\"id\":\"1206\"},{\"id\":\"1220\"}]},\"id\":\"1205\",\"type\":\"Legend\"},{\"attributes\":{\"label\":{\"value\":\"Edible\"},\"renderers\":[{\"id\":\"1196\"}]},\"id\":\"1206\",\"type\":\"LegendItem\"},{\"attributes\":{\"label\":{\"value\":\"Poisonous\"},\"renderers\":[{\"id\":\"1211\"}]},\"id\":\"1220\",\"type\":\"LegendItem\"},{\"attributes\":{\"data_source\":{\"id\":\"1170\"},\"glyph\":{\"id\":\"1194\"},\"hover_glyph\":null,\"muted_glyph\":null,\"nonselection_glyph\":{\"id\":\"1195\"},\"selection_glyph\":null,\"view\":{\"id\":\"1197\"}},\"id\":\"1196\",\"type\":\"GlyphRenderer\"},{\"attributes\":{\"range\":{\"id\":\"1174\"},\"value\":-0.25},\"id\":\"1192\",\"type\":\"Dodge\"},{\"attributes\":{\"source\":{\"id\":\"1170\"}},\"id\":\"1197\",\"type\":\"CDSView\"},{\"attributes\":{\"range\":{\"id\":\"1174\"}},\"id\":\"1207\",\"type\":\"Dodge\"},{\"attributes\":{},\"id\":\"1200\",\"type\":\"BasicTickFormatter\"},{\"attributes\":{\"data\":{\"color\":[\"brown\",\"gray\",\"red\",\"yellow\",\"white\",\"buff\",\"pink\",\"cinnamon\",\"purple\",\"green\"],\"edible\":[1264,1032,624,400,720,48,56,32,16,16],\"poisonous\":[1020,808,876,672,320,120,88,12,0,0]},\"selected\":{\"id\":\"1204\"},\"selection_policy\":{\"id\":\"1203\"}},\"id\":\"1170\",\"type\":\"ColumnDataSource\"},{\"attributes\":{\"fill_color\":{\"value\":\"#44e5e2\"},\"line_color\":{\"value\":\"#44e5e2\"},\"top\":{\"field\":\"edible\"},\"width\":{\"value\":0.2},\"x\":{\"field\":\"color\",\"transform\":{\"id\":\"1192\"}}},\"id\":\"1194\",\"type\":\"VBar\"},{\"attributes\":{\"text\":\"Poisonousness by Color!\"},\"id\":\"1172\",\"type\":\"Title\"},{\"attributes\":{\"factors\":[\"brown\",\"gray\",\"red\",\"yellow\",\"white\",\"buff\",\"pink\",\"cinnamon\",\"purple\",\"green\"]},\"id\":\"1174\",\"type\":\"FactorRange\"},{\"attributes\":{\"fill_color\":{\"value\":\"#e29e44\"},\"line_color\":{\"value\":\"#e29e44\"},\"top\":{\"field\":\"poisonous\"},\"width\":{\"value\":0.2},\"x\":{\"field\":\"color\",\"transform\":{\"id\":\"1207\"}}},\"id\":\"1209\",\"type\":\"VBar\"},{\"attributes\":{\"end\":1400},\"id\":\"1176\",\"type\":\"Range1d\"},{\"attributes\":{\"fill_alpha\":{\"value\":0.1},\"fill_color\":{\"value\":\"#44e5e2\"},\"line_alpha\":{\"value\":0.1},\"line_color\":{\"value\":\"#44e5e2\"},\"top\":{\"field\":\"edible\"},\"width\":{\"value\":0.2},\"x\":{\"field\":\"color\",\"transform\":{\"id\":\"1192\"}}},\"id\":\"1195\",\"type\":\"VBar\"},{\"attributes\":{},\"id\":\"1178\",\"type\":\"CategoricalScale\"},{\"attributes\":{},\"id\":\"1202\",\"type\":\"CategoricalTickFormatter\"},{\"attributes\":{},\"id\":\"1180\",\"type\":\"LinearScale\"},{\"attributes\":{},\"id\":\"1203\",\"type\":\"UnionRenderers\"},{\"attributes\":{\"formatter\":{\"id\":\"1202\"},\"ticker\":{\"id\":\"1183\"}},\"id\":\"1182\",\"type\":\"CategoricalAxis\"},{\"attributes\":{\"fill_alpha\":{\"value\":0.1},\"fill_color\":{\"value\":\"#e29e44\"},\"line_alpha\":{\"value\":0.1},\"line_color\":{\"value\":\"#e29e44\"},\"top\":{\"field\":\"poisonous\"},\"width\":{\"value\":0.2},\"x\":{\"field\":\"color\",\"transform\":{\"id\":\"1207\"}}},\"id\":\"1210\",\"type\":\"VBar\"},{\"attributes\":{},\"id\":\"1204\",\"type\":\"Selection\"},{\"attributes\":{},\"id\":\"1183\",\"type\":\"CategoricalTicker\"}],\"root_ids\":[\"1171\"]},\"title\":\"Bokeh Application\",\"version\":\"2.1.1\"}};\n",
       "  var render_items = [{\"docid\":\"cefae3df-70ef-4aa0-a088-6c09de157b91\",\"root_ids\":[\"1171\"],\"roots\":{\"1171\":\"5d103484-2db5-4cfc-9f70-5859d6ed4929\"}}];\n",
       "  root.Bokeh.embed.embed_items_notebook(docs_json, render_items);\n",
       "\n",
       "  }\n",
       "  if (root.Bokeh !== undefined) {\n",
       "    embed_document(root);\n",
       "  } else {\n",
       "    var attempts = 0;\n",
       "    var timer = setInterval(function(root) {\n",
       "      if (root.Bokeh !== undefined) {\n",
       "        clearInterval(timer);\n",
       "        embed_document(root);\n",
       "      } else {\n",
       "        attempts++;\n",
       "        if (attempts > 100) {\n",
       "          clearInterval(timer);\n",
       "          console.log(\"Bokeh: ERROR: Unable to run BokehJS code because BokehJS library is missing\");\n",
       "        }\n",
       "      }\n",
       "    }, 10, root)\n",
       "  }\n",
       "})(window);"
      ],
      "application/vnd.bokehjs_exec.v0+json": ""
     },
     "metadata": {
      "application/vnd.bokehjs_exec.v0+json": {
       "id": "1171"
      }
     },
     "output_type": "display_data"
    }
   ],
   "source": [
    "TOOLTIPS = [\n",
    "    (\"Edible\", \"@edible\"),\n",
    "    (\"Poisonous\", \"@poisonous\"),\n",
    "]\n",
    "\n",
    "p = figure(x_range=cap_color, y_range=(0, 1400), plot_height=500, title=\"Poisonousness by Color!\",\n",
    "           toolbar_location=None, tools=\"hover\",tooltips=TOOLTIPS)\n",
    "\n",
    "\n",
    "p.vbar(x=dodge('color', -0.25, range=p.x_range), top='edible', width=0.2, source=source,\n",
    "       color=\"#44e5e2\", legend_label=\"Edible\")\n",
    "\n",
    "p.vbar(x=dodge('color',  0.0,  range=p.x_range), top='poisonous', width=0.2, source=source,\n",
    "       color=\"#e29e44\", legend_label=\"Poisonous\")\n",
    "show(p)"
   ]
  },
  {
   "cell_type": "markdown",
   "metadata": {},
   "source": [
    "#### This still doesn't really tell us much. The only suprising thing is that all the green and purple mushrooms from this data set are _edible_. "
   ]
  },
  {
   "cell_type": "markdown",
   "metadata": {},
   "source": [
    "### Since color doesn't show us any difinitive patterns, let try it with odor. I've copied the code from above, but modified it in order to show poisonousness by odor. "
   ]
  },
  {
   "cell_type": "code",
   "execution_count": 11,
   "metadata": {},
   "outputs": [
    {
     "data": {
      "text/html": [
       "\n",
       "\n",
       "\n",
       "\n",
       "\n",
       "\n",
       "  <div class=\"bk-root\" id=\"02866f14-1e1d-486b-996c-ead7f5746bfd\" data-root-id=\"1285\"></div>\n"
      ]
     },
     "metadata": {},
     "output_type": "display_data"
    },
    {
     "data": {
      "application/javascript": [
       "(function(root) {\n",
       "  function embed_document(root) {\n",
       "    \n",
       "  var docs_json = {\"da438f28-f2f6-484e-a7f5-19c0d9001499\":{\"roots\":{\"references\":[{\"attributes\":{\"below\":[{\"id\":\"1296\"}],\"center\":[{\"id\":\"1298\"},{\"id\":\"1302\"},{\"id\":\"1319\"}],\"left\":[{\"id\":\"1299\"}],\"plot_height\":500,\"renderers\":[{\"id\":\"1310\"},{\"id\":\"1325\"}],\"title\":{\"id\":\"1286\"},\"toolbar\":{\"id\":\"1304\"},\"toolbar_location\":null,\"x_range\":{\"id\":\"1288\"},\"x_scale\":{\"id\":\"1292\"},\"y_range\":{\"id\":\"1290\"},\"y_scale\":{\"id\":\"1294\"}},\"id\":\"1285\",\"subtype\":\"Figure\",\"type\":\"Plot\"},{\"attributes\":{},\"id\":\"1300\",\"type\":\"BasicTicker\"},{\"attributes\":{\"data_source\":{\"id\":\"1284\"},\"glyph\":{\"id\":\"1308\"},\"hover_glyph\":null,\"muted_glyph\":null,\"nonselection_glyph\":{\"id\":\"1309\"},\"selection_glyph\":null,\"view\":{\"id\":\"1311\"}},\"id\":\"1310\",\"type\":\"GlyphRenderer\"},{\"attributes\":{\"axis\":{\"id\":\"1299\"},\"dimension\":1,\"ticker\":null},\"id\":\"1302\",\"type\":\"Grid\"},{\"attributes\":{\"active_drag\":\"auto\",\"active_inspect\":\"auto\",\"active_multi\":null,\"active_scroll\":\"auto\",\"active_tap\":\"auto\",\"tools\":[{\"id\":\"1303\"}]},\"id\":\"1304\",\"type\":\"Toolbar\"},{\"attributes\":{\"callback\":null,\"tooltips\":[[\"Edible\",\"@edible\"],[\"Poisonous\",\"@poisonous\"]]},\"id\":\"1303\",\"type\":\"HoverTool\"},{\"attributes\":{},\"id\":\"1316\",\"type\":\"CategoricalTickFormatter\"},{\"attributes\":{\"fill_alpha\":{\"value\":0.1},\"fill_color\":{\"value\":\"#44e5e2\"},\"line_alpha\":{\"value\":0.1},\"line_color\":{\"value\":\"#44e5e2\"},\"top\":{\"field\":\"edible\"},\"width\":{\"value\":0.2},\"x\":{\"field\":\"odor\",\"transform\":{\"id\":\"1306\"}}},\"id\":\"1309\",\"type\":\"VBar\"},{\"attributes\":{},\"id\":\"1317\",\"type\":\"UnionRenderers\"},{\"attributes\":{\"range\":{\"id\":\"1288\"},\"value\":-0.25},\"id\":\"1306\",\"type\":\"Dodge\"},{\"attributes\":{},\"id\":\"1314\",\"type\":\"BasicTickFormatter\"},{\"attributes\":{},\"id\":\"1318\",\"type\":\"Selection\"},{\"attributes\":{\"range\":{\"id\":\"1288\"}},\"id\":\"1321\",\"type\":\"Dodge\"},{\"attributes\":{\"items\":[{\"id\":\"1320\"},{\"id\":\"1334\"}]},\"id\":\"1319\",\"type\":\"Legend\"},{\"attributes\":{\"label\":{\"value\":\"Edible\"},\"renderers\":[{\"id\":\"1310\"}]},\"id\":\"1320\",\"type\":\"LegendItem\"},{\"attributes\":{\"factors\":[\"none\",\"foul\",\"spicy\",\"fishy\",\"almond\",\"anise\",\"pungent\",\"creosote\",\"musty\"]},\"id\":\"1288\",\"type\":\"FactorRange\"},{\"attributes\":{\"data\":{\"edible\":[3408,0,0,0,400,400,0,0,0],\"odor\":[\"none\",\"foul\",\"spicy\",\"fishy\",\"almond\",\"anise\",\"pungent\",\"creosote\",\"musty\"],\"poisonous\":[120,2160,576,576,0,0,256,192,36]},\"selected\":{\"id\":\"1318\"},\"selection_policy\":{\"id\":\"1317\"}},\"id\":\"1284\",\"type\":\"ColumnDataSource\"},{\"attributes\":{\"end\":3500},\"id\":\"1290\",\"type\":\"Range1d\"},{\"attributes\":{\"data_source\":{\"id\":\"1284\"},\"glyph\":{\"id\":\"1323\"},\"hover_glyph\":null,\"muted_glyph\":null,\"nonselection_glyph\":{\"id\":\"1324\"},\"selection_glyph\":null,\"view\":{\"id\":\"1326\"}},\"id\":\"1325\",\"type\":\"GlyphRenderer\"},{\"attributes\":{},\"id\":\"1292\",\"type\":\"CategoricalScale\"},{\"attributes\":{\"source\":{\"id\":\"1284\"}},\"id\":\"1326\",\"type\":\"CDSView\"},{\"attributes\":{},\"id\":\"1294\",\"type\":\"LinearScale\"},{\"attributes\":{\"fill_color\":{\"value\":\"#44e5e2\"},\"line_color\":{\"value\":\"#44e5e2\"},\"top\":{\"field\":\"edible\"},\"width\":{\"value\":0.2},\"x\":{\"field\":\"odor\",\"transform\":{\"id\":\"1306\"}}},\"id\":\"1308\",\"type\":\"VBar\"},{\"attributes\":{\"label\":{\"value\":\"Poisonous\"},\"renderers\":[{\"id\":\"1325\"}]},\"id\":\"1334\",\"type\":\"LegendItem\"},{\"attributes\":{\"fill_color\":{\"value\":\"#e29e44\"},\"line_color\":{\"value\":\"#e29e44\"},\"top\":{\"field\":\"poisonous\"},\"width\":{\"value\":0.2},\"x\":{\"field\":\"odor\",\"transform\":{\"id\":\"1321\"}}},\"id\":\"1323\",\"type\":\"VBar\"},{\"attributes\":{\"formatter\":{\"id\":\"1316\"},\"ticker\":{\"id\":\"1297\"}},\"id\":\"1296\",\"type\":\"CategoricalAxis\"},{\"attributes\":{},\"id\":\"1297\",\"type\":\"CategoricalTicker\"},{\"attributes\":{\"text\":\"Dont Eat The Smelly Ones!\"},\"id\":\"1286\",\"type\":\"Title\"},{\"attributes\":{\"fill_alpha\":{\"value\":0.1},\"fill_color\":{\"value\":\"#e29e44\"},\"line_alpha\":{\"value\":0.1},\"line_color\":{\"value\":\"#e29e44\"},\"top\":{\"field\":\"poisonous\"},\"width\":{\"value\":0.2},\"x\":{\"field\":\"odor\",\"transform\":{\"id\":\"1321\"}}},\"id\":\"1324\",\"type\":\"VBar\"},{\"attributes\":{\"axis\":{\"id\":\"1296\"},\"ticker\":null},\"id\":\"1298\",\"type\":\"Grid\"},{\"attributes\":{\"source\":{\"id\":\"1284\"}},\"id\":\"1311\",\"type\":\"CDSView\"},{\"attributes\":{\"formatter\":{\"id\":\"1314\"},\"ticker\":{\"id\":\"1300\"}},\"id\":\"1299\",\"type\":\"LinearAxis\"}],\"root_ids\":[\"1285\"]},\"title\":\"Bokeh Application\",\"version\":\"2.1.1\"}};\n",
       "  var render_items = [{\"docid\":\"da438f28-f2f6-484e-a7f5-19c0d9001499\",\"root_ids\":[\"1285\"],\"roots\":{\"1285\":\"02866f14-1e1d-486b-996c-ead7f5746bfd\"}}];\n",
       "  root.Bokeh.embed.embed_items_notebook(docs_json, render_items);\n",
       "\n",
       "  }\n",
       "  if (root.Bokeh !== undefined) {\n",
       "    embed_document(root);\n",
       "  } else {\n",
       "    var attempts = 0;\n",
       "    var timer = setInterval(function(root) {\n",
       "      if (root.Bokeh !== undefined) {\n",
       "        clearInterval(timer);\n",
       "        embed_document(root);\n",
       "      } else {\n",
       "        attempts++;\n",
       "        if (attempts > 100) {\n",
       "          clearInterval(timer);\n",
       "          console.log(\"Bokeh: ERROR: Unable to run BokehJS code because BokehJS library is missing\");\n",
       "        }\n",
       "      }\n",
       "    }, 10, root)\n",
       "  }\n",
       "})(window);"
      ],
      "application/vnd.bokehjs_exec.v0+json": ""
     },
     "metadata": {
      "application/vnd.bokehjs_exec.v0+json": {
       "id": "1285"
      }
     },
     "output_type": "display_data"
    }
   ],
   "source": [
    "odor_count = df['odor'].value_counts()\n",
    "m_height = odor_count.values.tolist() #Provides numerical values\n",
    "odor_count.axes #Provides row labels\n",
    "odor = odor_count.axes[0].tolist() \n",
    "\n",
    "poisonous = [] #Poisonous color cap list\n",
    "edible = []    #Edible color cap list\n",
    "\n",
    "#Again, we'll create a dictionary with odor now, and poisonous vs edible samples\n",
    "for smell in odor:\n",
    "    size = len(df[df['odor'] == smell].index)\n",
    "    edibles = len(df[(df['odor'] == smell) & (df['class'] == 'edible')].index)\n",
    "    edible.append(edibles)\n",
    "    poisonous.append(size-edibles)\n",
    "\n",
    "data = {'odor' : odor,\n",
    "        'poisonous'   : poisonous,\n",
    "        'edible'   : edible}\n",
    "\n",
    "source = ColumnDataSource(data=data)\n",
    "source\n",
    "TOOLTIPS = [\n",
    "    (\"Edible\", \"@edible\"),\n",
    "    (\"Poisonous\", \"@poisonous\"),\n",
    "]\n",
    "\n",
    "#Creating the same figure as above, but with odor\n",
    "p = figure(x_range=odor, y_range=(0, 3500), plot_height=500, title=\"Dont Eat The Smelly Ones!\",\n",
    "           toolbar_location=None, tools=\"hover\", tooltips=TOOLTIPS)\n",
    "\n",
    "p.vbar(x=dodge('odor', -0.25, range=p.x_range), top='edible', width=0.2, source=source,\n",
    "       color=\"#44e5e2\", legend_label=\"Edible\")\n",
    "\n",
    "p.vbar(x=dodge('odor',  0.0,  range=p.x_range), top='poisonous', width=0.2, source=source,\n",
    "       color=\"#e29e44\", legend_label=\"Poisonous\")\n",
    "show(p)"
   ]
  },
  {
   "cell_type": "markdown",
   "metadata": {},
   "source": [
    "#### Only 3.4 % of mushrooms with no smell are poisonous... Would you risk it?\n",
    "### Take some to experment with other variables, using the code above, or code from scratch and create brand new visualizations. Either way, there is so mushroom for more exploration! "
   ]
  },
  {
   "cell_type": "code",
   "execution_count": 12,
   "metadata": {},
   "outputs": [],
   "source": [
    "from zipfile import ZipFile\n",
    "\n",
    "# create a ZipFile object\n",
    "zipObj = ZipFile('gonzalez.zip',\"w\")\n",
    "# Add multiple files to the zip\n",
    "zipObj.write('assignment3.ipynb')\n",
    "zipObj.write('mushroms.png')\n",
    "zipObj.write('assets/mush.csv')\n",
    "# close the Zip File\n",
    "zipObj.close()"
   ]
  },
  {
   "cell_type": "code",
   "execution_count": null,
   "metadata": {},
   "outputs": [],
   "source": []
  },
  {
   "cell_type": "code",
   "execution_count": null,
   "metadata": {},
   "outputs": [],
   "source": []
  },
  {
   "cell_type": "code",
   "execution_count": null,
   "metadata": {},
   "outputs": [],
   "source": []
  }
 ],
 "metadata": {
  "kernelspec": {
   "display_name": "Python 3",
   "language": "python",
   "name": "python3"
  },
  "language_info": {
   "codemirror_mode": {
    "name": "ipython",
    "version": 3
   },
   "file_extension": ".py",
   "mimetype": "text/x-python",
   "name": "python",
   "nbconvert_exporter": "python",
   "pygments_lexer": "ipython3",
   "version": "3.7.3"
  }
 },
 "nbformat": 4,
 "nbformat_minor": 4
}
